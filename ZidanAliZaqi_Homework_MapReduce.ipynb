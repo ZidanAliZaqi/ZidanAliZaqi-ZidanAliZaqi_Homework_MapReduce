{
  "nbformat": 4,
  "nbformat_minor": 0,
  "metadata": {
    "colab": {
      "provenance": []
    },
    "kernelspec": {
      "name": "python3",
      "display_name": "Python 3"
    },
    "language_info": {
      "name": "python"
    }
  },
  "cells": [
    {
      "cell_type": "markdown",
      "source": [
        "# Menginstal Java 8\n",
        "Hadoop adalah framework pengolahan data yang berbasis pemrograman java\n",
        "\n",
        "OpenJDK adalah lingkungan pengembangan untuk membangun aplikasi, applet, dan komponen menggunakan bahasa pemrograman Java."
      ],
      "metadata": {
        "id": "8rozkITAEf2B"
      }
    },
    {
      "cell_type": "code",
      "source": [
        "!apt-get install openjdk-8-jdk-headless -qq > /dev/null\n",
        "!java -version\n",
        "\n",
        "!update-alternatives --set java /usr/lib/jvm/java-8-openjdk-amd64/jre/bin/java\n",
        "!update-alternatives --set javac /usr/lib/jvm/java-8-openjdk-amd64/bin/javac\n",
        "!update-alternatives --set jps /usr/lib/jvm/java-8-openjdk-amd64/bin/jps\n",
        "!java -version\n",
        "\n",
        "#Finding the default Java path\n",
        "!readlink -f /usr/bin/java | sed \"s:bin/java::\"\n",
        "!apt-get install openssh-server -qq > /dev/null\n",
        "!service ssh start\n",
        "\n",
        "!grep Port /etc/ssh/sshd_config\n",
        "\n",
        "#Creating a new rsa key pair with empty password\n",
        "!ssh-keygen -t rsa -P \"\" -f ~/.ssh/id_rsa\n",
        "\n",
        "# See id_rsa.pub content\n",
        "!more /root/.ssh/id_rsa.pub\n",
        "\n",
        "#Copying the key to autorized keys\n",
        "!cat $HOME/.ssh/id_rsa.pub > $HOME/.ssh/authorized_keys\n",
        "#Changing the permissions on the key\n",
        "!chmod 0600 ~/.ssh/authorized_keys\n",
        "\n",
        "#Conneting with the local machine\n",
        "!ssh -o StrictHostKeyChecking=no localhost uptime\n",
        "\n",
        "\n",
        "#Downloading Hadoop 3.2.3\n",
        "!wget -q https://archive.apache.org/dist/hadoop/common/hadoop-3.2.3/hadoop-3.2.3.tar.gz\n",
        "\n",
        "#Untarring the file\n",
        "!sudo tar -xzf hadoop-3.2.3.tar.gz\n",
        "#Removing the tar file\n",
        "!rm hadoop-3.2.3.tar.gz\n",
        "\n",
        "\n",
        "#Copying the hadoop files to user/local\n",
        "!cp -r hadoop-3.2.3/ /usr/local/\n",
        "#-r copy directories recursively\n",
        "\n",
        "#Adding JAVA_HOME directory to hadoop-env.sh file\n",
        "!sed -i '/export JAVA_HOME=/a export JAVA_HOME=\\/usr\\/lib\\/jvm\\/java-8-openjdk-amd64' /usr/local/hadoop-3.2.3/etc/hadoop/hadoop-env.sh\n",
        "\n",
        "import os\n",
        "#Creating environment variables\n",
        "#Creating Hadoop home variable\n",
        "\n",
        "os.environ[\"HADOOP_HOME\"] = \"/usr/local/hadoop-3.2.3\"\n",
        "os.environ[\"JAVA_HOME\"] = \"/usr/lib/jvm/java-8-openjdk-amd64\"\n",
        "os.environ[\"JRE_HOME\"] = \"/usr/lib/jvm/java-8-openjdk-amd64/jre\"\n",
        "os.environ[\"PATH\"] += f'{os.environ[\"JAVA_HOME\"]}/bin:{os.environ[\"JRE_HOME\"]}/bin:{os.environ[\"HADOOP_HOME\"]}/sbin'\n"
      ],
      "metadata": {
        "id": "8krugEF3Eh3w",
        "colab": {
          "base_uri": "https://localhost:8080/"
        },
        "outputId": "894e0864-e028-41ef-f364-1538530b0658"
      },
      "execution_count": 1,
      "outputs": [
        {
          "output_type": "stream",
          "name": "stdout",
          "text": [
            "openjdk version \"11.0.22\" 2024-01-16\n",
            "OpenJDK Runtime Environment (build 11.0.22+7-post-Ubuntu-0ubuntu222.04.1)\n",
            "OpenJDK 64-Bit Server VM (build 11.0.22+7-post-Ubuntu-0ubuntu222.04.1, mixed mode, sharing)\n",
            "update-alternatives: using /usr/lib/jvm/java-8-openjdk-amd64/jre/bin/java to provide /usr/bin/java (java) in manual mode\n",
            "update-alternatives: using /usr/lib/jvm/java-8-openjdk-amd64/bin/javac to provide /usr/bin/javac (javac) in manual mode\n",
            "update-alternatives: using /usr/lib/jvm/java-8-openjdk-amd64/bin/jps to provide /usr/bin/jps (jps) in manual mode\n",
            "openjdk version \"1.8.0_402\"\n",
            "OpenJDK Runtime Environment (build 1.8.0_402-8u402-ga-2ubuntu1~22.04-b06)\n",
            "OpenJDK 64-Bit Server VM (build 25.402-b06, mixed mode)\n",
            "/usr/lib/jvm/java-8-openjdk-amd64/jre/\n",
            " * Starting OpenBSD Secure Shell server sshd\n",
            "   ...done.\n",
            "#Port 22\n",
            "#GatewayPorts no\n",
            "Generating public/private rsa key pair.\n",
            "Created directory '/root/.ssh'.\n",
            "Your identification has been saved in /root/.ssh/id_rsa\n",
            "Your public key has been saved in /root/.ssh/id_rsa.pub\n",
            "The key fingerprint is:\n",
            "SHA256:QHrwa4fRUvM8p+vELXL+UqkLdbPiZ03iO69mN1hjJRM root@7c8cea03b113\n",
            "The key's randomart image is:\n",
            "+---[RSA 3072]----+\n",
            "|    . . o        |\n",
            "|     = o +    E  |\n",
            "|    . * . + .  . |\n",
            "|     . *   +  o .|\n",
            "|      + S o o. + |\n",
            "|     . . o ++o=  |\n",
            "|        o B+oB . |\n",
            "|         OooO +  |\n",
            "|          =O+*.. |\n",
            "+----[SHA256]-----+\n",
            "ssh-rsa AAAAB3NzaC1yc2EAAAADAQABAAABgQCuhltIG2EYvJimU0hJH+S9fkEpRlim+Xk9TRYXT41xd+YoSPo8WisOwnifPVWO\n",
            "29Li1LurFS7TtrNJVVaXDRZ4TEJv8+n5EGSq2cUkXfcyYSc29H4MR3yFO8VG03ZJJRPg21ZBPr36eSYrKeCVs6jJ6fY1WEyU3tfz\n",
            "PhZC0GD8TT5nuyVu/nln+l/qWvbDzUELICAVHzFnzuQ/dPBsFYTXUkrEK9nqSYrIPx1JkOzIumU84+ubzUeRwRPmGmkDqIBQO/N0\n",
            "/pWL8UD8b6JwRW/YzwLR6hyOJ96gH2GtxV59DT2OWVDqkJD65zixkhe4KTHEEto/fWzxJsULkiioycekzUSDN+b47vFKfQ/WdPvl\n",
            "o/n14+rgNTVxgvLG9eg/4TODyC3mjg5Hw4DvMCwOtz82iPLKOT/1FzAo1mcztS53TYOF0qh6LPBQh68lbMRLAz+TcDK5QaBg4L/C\n",
            "9IeKu7DDYzclt1m7RdgUw7onZlMm32tP9t/l2+Ye/TIGdDvcQV8= root@7c8cea03b113\n",
            "Warning: Permanently added 'localhost' (ED25519) to the list of known hosts.\n",
            " 12:55:03 up 1 min,  0 users,  load average: 1.58, 0.60, 0.22\n"
          ]
        }
      ]
    },
    {
      "cell_type": "code",
      "source": [
        "#Adding required property to core-site.xlm file\n",
        "%%bash\n",
        "cat <<EOF > $HADOOP_HOME/etc/hadoop/core-site.xml\n",
        "<?xml version=\"1.0\" encoding=\"UTF-8\"?>\n",
        "<?xml-stylesheet type=\"text/xsl\" href=\"configuration.xsl\"?>\n",
        "<!--\n",
        "  Licensed under the Apache License, Version 2.0 (the \"License\");\n",
        "  you may not use this file except in compliance with the License.\n",
        "  You may obtain a copy of the License at\n",
        "\n",
        "    http://www.apache.org/licenses/LICENSE-2.0\n",
        "\n",
        "  Unless required by applicable law or agreed to in writing, software\n",
        "  distributed under the License is distributed on an \"AS IS\" BASIS,\n",
        "  WITHOUT WARRANTIES OR CONDITIONS OF ANY KIND, either express or implied.\n",
        "  See the License for the specific language governing permissions and\n",
        "  limitations under the License. See accompanying LICENSE file.\n",
        "-->\n",
        "\n",
        "<!-- Put site-specific property overrides in this file. -->\n",
        "\n",
        "<configuration>\n",
        "  <property>\n",
        "          <name>fs.defaultFS</name>\n",
        "          <value>hdfs://localhost:9000</value>\n",
        "          <description>Where HDFS NameNode can be found on the network</description>\n",
        "  </property>\n",
        "</configuration>\n",
        "EOF"
      ],
      "metadata": {
        "id": "tDVzTXREIasw"
      },
      "execution_count": 2,
      "outputs": []
    },
    {
      "cell_type": "code",
      "source": [
        "%%bash\n",
        "cat <<EOF > $HADOOP_HOME/etc/hadoop/hdfs-site.xml\n",
        "<?xml version=\"1.0\" encoding=\"UTF-8\"?>\n",
        "<?xml-stylesheet type=\"text/xsl\" href=\"configuration.xsl\"?>\n",
        "<!--\n",
        "  Licensed under the Apache License, Version 2.0 (the \"License\");\n",
        "  you may not use this file except in compliance with the License.\n",
        "  You may obtain a copy of the License at\n",
        "\n",
        "    http://www.apache.org/licenses/LICENSE-2.0\n",
        "\n",
        "  Unless required by applicable law or agreed to in writing, software\n",
        "  distributed under the License is distributed on an \"AS IS\" BASIS,\n",
        "  WITHOUT WARRANTIES OR CONDITIONS OF ANY KIND, either express or implied.\n",
        "  See the License for the specific language governing permissions and\n",
        "  limitations under the License. See accompanying LICENSE file.\n",
        "-->\n",
        "\n",
        "<!-- Put site-specific property overrides in this file. -->\n",
        "\n",
        "<configuration>\n",
        "<property>\n",
        "    <name>dfs.replication</name>\n",
        "    <value>1</value>\n",
        "  </property>\n",
        "\n",
        "</configuration>\n",
        "EOF"
      ],
      "metadata": {
        "id": "oMuWUM-JIcle"
      },
      "execution_count": 3,
      "outputs": []
    },
    {
      "cell_type": "code",
      "source": [
        "%%bash\n",
        "cat <<EOF > $HADOOP_HOME/etc/hadoop/mapred-site.xml\n",
        "<?xml version=\"1.0\"?>\n",
        "<?xml-stylesheet type=\"text/xsl\" href=\"configuration.xsl\"?>\n",
        "<!--\n",
        "  Licensed under the Apache License, Version 2.0 (the \"License\");\n",
        "  you may not use this file except in compliance with the License.\n",
        "  You may obtain a copy of the License at\n",
        "\n",
        "    http://www.apache.org/licenses/LICENSE-2.0\n",
        "\n",
        "  Unless required by applicable law or agreed to in writing, software\n",
        "  distributed under the License is distributed on an \"AS IS\" BASIS,\n",
        "  WITHOUT WARRANTIES OR CONDITIONS OF ANY KIND, either express or implied.\n",
        "  See the License for the specific language governing permissions and\n",
        "  limitations under the License. See accompanying LICENSE file.\n",
        "-->\n",
        "\n",
        "<!-- Put site-specific property overrides in this file. -->\n",
        "\n",
        "<configuration>\n",
        "<property>\n",
        "    <name>mapreduce.framework.name</name>\n",
        "    <value>yarn</value>\n",
        "  </property>\n",
        "  <property>\n",
        "    <name>mapreduce.application.classpath</name>\n",
        "    <value>$HADOOP_HOME/share/hadoop/mapreduce/*:$HADOOP_HOME/share/hadoop/mapreduce/lib/*</value>\n",
        "  </property>\n",
        "\n",
        "</configuration>\n",
        "EOF"
      ],
      "metadata": {
        "id": "8FJuqbj1Igdt"
      },
      "execution_count": 4,
      "outputs": []
    },
    {
      "cell_type": "code",
      "source": [
        "%%bash\n",
        "cat <<EOF > $HADOOP_HOME/etc/hadoop/yarn-site.xml\n",
        "<?xml version=\"1.0\"?>\n",
        "<!--\n",
        "  Licensed under the Apache License, Version 2.0 (the \"License\");\n",
        "  you may not use this file except in compliance with the License.\n",
        "  You may obtain a copy of the License at\n",
        "\n",
        "    http://www.apache.org/licenses/LICENSE-2.0\n",
        "\n",
        "  Unless required by applicable law or agreed to in writing, software\n",
        "  distributed under the License is distributed on an \"AS IS\" BASIS,\n",
        "  WITHOUT WARRANTIES OR CONDITIONS OF ANY KIND, either express or implied.\n",
        "  See the License for the specific language governing permissions and\n",
        "  limitations under the License. See accompanying LICENSE file.\n",
        "-->\n",
        "<configuration>\n",
        "<property>\n",
        "    <description>The hostname of the RM.</description>\n",
        "    <name>yarn.resourcemanager.hostname</name>\n",
        "    <value>localhost</value>\n",
        "  </property>\n",
        "  <property>\n",
        "    <name>yarn.nodemanager.aux-services</name>\n",
        "    <value>mapreduce_shuffle</value>\n",
        "  </property>\n",
        "  <property>\n",
        "    <name>yarn.nodemanager.env-whitelist</name>\n",
        "    <value>JAVA_HOME,HADOOP_COMMON_HOME,HADOOP_HDFS_HOME,HADOOP_CONF_DIR,CLASSPATH_PREPEND_DISTCACHE,HADOOP_YARN_HOME,HADOOP_HOME,PATH,LANG,TZ,HADOOP_MAPRED_HOME</value>\n",
        "  </property>\n",
        "\n",
        "<!-- Site specific YARN configuration properties -->\n",
        "\n",
        "</configuration>\n",
        "EOF"
      ],
      "metadata": {
        "id": "QfSyVV5zIjB1"
      },
      "execution_count": 5,
      "outputs": []
    },
    {
      "cell_type": "markdown",
      "source": [
        "# Konfigurasi File HDFS\n",
        "\n",
        "Sebelum HDFS dapat digunakan, sistem file harus dikonfigurasi. Proses konfigurasi membuat sistem file kosong dengan membuat direktori penyimpanan dan versi awal NameNodes"
      ],
      "metadata": {
        "id": "zqmn2wX-HZqc"
      }
    },
    {
      "cell_type": "code",
      "source": [
        "!$HADOOP_HOME/bin/hdfs namenode -format\n",
        "\n",
        "#Creating other necessary enviroment variables before starting nodes\n",
        "os.environ[\"HDFS_NAMENODE_USER\"] = \"root\"\n",
        "os.environ[\"HDFS_DATANODE_USER\"] = \"root\"\n",
        "os.environ[\"HDFS_SECONDARYNAMENODE_USER\"] = \"root\"\n",
        "os.environ[\"YARN_RESOURCEMANAGER_USER\"] = \"root\"\n",
        "os.environ[\"YARN_NODEMANAGER_USER\"] = \"root\"\n",
        "\n",
        "#Launching hdfs deamons\n",
        "!$HADOOP_HOME/sbin/start-dfs.sh\n",
        "\n",
        "#Launching yarn deamons\n",
        "#nohup causes a process to ignore a SIGHUP signal\n",
        "!nohup $HADOOP_HOME/sbin/start-yarn.sh\n",
        "\n",
        "#Listing the running deamons\n",
        "!jps"
      ],
      "metadata": {
        "id": "8EzBeu3TI3gz",
        "colab": {
          "base_uri": "https://localhost:8080/"
        },
        "outputId": "28b792e1-8a86-43bf-a207-a31e195e412b"
      },
      "execution_count": 6,
      "outputs": [
        {
          "output_type": "stream",
          "name": "stdout",
          "text": [
            "WARNING: /usr/local/hadoop-3.2.3/logs does not exist. Creating.\n",
            "2024-05-04 12:56:35,416 INFO namenode.NameNode: STARTUP_MSG: \n",
            "/************************************************************\n",
            "STARTUP_MSG: Starting NameNode\n",
            "STARTUP_MSG:   host = 7c8cea03b113/172.28.0.12\n",
            "STARTUP_MSG:   args = [-format]\n",
            "STARTUP_MSG:   version = 3.2.3\n",
            "STARTUP_MSG:   classpath = /usr/local/hadoop-3.2.3/etc/hadoop:/usr/local/hadoop-3.2.3/share/hadoop/common/lib/jsr305-3.0.2.jar:/usr/local/hadoop-3.2.3/share/hadoop/common/lib/commons-net-3.6.jar:/usr/local/hadoop-3.2.3/share/hadoop/common/lib/javax.servlet-api-3.1.0.jar:/usr/local/hadoop-3.2.3/share/hadoop/common/lib/kerb-simplekdc-1.0.1.jar:/usr/local/hadoop-3.2.3/share/hadoop/common/lib/jackson-core-asl-1.9.13.jar:/usr/local/hadoop-3.2.3/share/hadoop/common/lib/metrics-core-3.2.4.jar:/usr/local/hadoop-3.2.3/share/hadoop/common/lib/jaxb-api-2.2.11.jar:/usr/local/hadoop-3.2.3/share/hadoop/common/lib/kerby-config-1.0.1.jar:/usr/local/hadoop-3.2.3/share/hadoop/common/lib/commons-compress-1.21.jar:/usr/local/hadoop-3.2.3/share/hadoop/common/lib/animal-sniffer-annotations-1.17.jar:/usr/local/hadoop-3.2.3/share/hadoop/common/lib/javax.activation-api-1.2.0.jar:/usr/local/hadoop-3.2.3/share/hadoop/common/lib/kerb-util-1.0.1.jar:/usr/local/hadoop-3.2.3/share/hadoop/common/lib/slf4j-log4j12-1.7.25.jar:/usr/local/hadoop-3.2.3/share/hadoop/common/lib/nimbus-jose-jwt-9.8.1.jar:/usr/local/hadoop-3.2.3/share/hadoop/common/lib/jackson-databind-2.10.5.1.jar:/usr/local/hadoop-3.2.3/share/hadoop/common/lib/kerb-server-1.0.1.jar:/usr/local/hadoop-3.2.3/share/hadoop/common/lib/asm-5.0.4.jar:/usr/local/hadoop-3.2.3/share/hadoop/common/lib/jackson-xc-1.9.13.jar:/usr/local/hadoop-3.2.3/share/hadoop/common/lib/jetty-util-9.4.40.v20210413.jar:/usr/local/hadoop-3.2.3/share/hadoop/common/lib/jetty-webapp-9.4.40.v20210413.jar:/usr/local/hadoop-3.2.3/share/hadoop/common/lib/jersey-core-1.19.jar:/usr/local/hadoop-3.2.3/share/hadoop/common/lib/jul-to-slf4j-1.7.25.jar:/usr/local/hadoop-3.2.3/share/hadoop/common/lib/jsr311-api-1.1.1.jar:/usr/local/hadoop-3.2.3/share/hadoop/common/lib/curator-client-2.13.0.jar:/usr/local/hadoop-3.2.3/share/hadoop/common/lib/httpcore-4.4.13.jar:/usr/local/hadoop-3.2.3/share/hadoop/common/lib/kerby-pkix-1.0.1.jar:/usr/local/hadoop-3.2.3/share/hadoop/common/lib/kerb-admin-1.0.1.jar:/usr/local/hadoop-3.2.3/share/hadoop/common/lib/kerby-asn1-1.0.1.jar:/usr/local/hadoop-3.2.3/share/hadoop/common/lib/jackson-annotations-2.10.5.jar:/usr/local/hadoop-3.2.3/share/hadoop/common/lib/commons-configuration2-2.1.1.jar:/usr/local/hadoop-3.2.3/share/hadoop/common/lib/kerb-identity-1.0.1.jar:/usr/local/hadoop-3.2.3/share/hadoop/common/lib/gson-2.2.4.jar:/usr/local/hadoop-3.2.3/share/hadoop/common/lib/commons-collections-3.2.2.jar:/usr/local/hadoop-3.2.3/share/hadoop/common/lib/commons-math3-3.1.1.jar:/usr/local/hadoop-3.2.3/share/hadoop/common/lib/failureaccess-1.0.jar:/usr/local/hadoop-3.2.3/share/hadoop/common/lib/kerb-crypto-1.0.1.jar:/usr/local/hadoop-3.2.3/share/hadoop/common/lib/accessors-smart-2.4.7.jar:/usr/local/hadoop-3.2.3/share/hadoop/common/lib/checker-qual-2.5.2.jar:/usr/local/hadoop-3.2.3/share/hadoop/common/lib/zookeeper-3.4.14.jar:/usr/local/hadoop-3.2.3/share/hadoop/common/lib/curator-recipes-2.13.0.jar:/usr/local/hadoop-3.2.3/share/hadoop/common/lib/slf4j-api-1.7.25.jar:/usr/local/hadoop-3.2.3/share/hadoop/common/lib/jersey-json-1.19.jar:/usr/local/hadoop-3.2.3/share/hadoop/common/lib/listenablefuture-9999.0-empty-to-avoid-conflict-with-guava.jar:/usr/local/hadoop-3.2.3/share/hadoop/common/lib/jetty-io-9.4.40.v20210413.jar:/usr/local/hadoop-3.2.3/share/hadoop/common/lib/httpclient-4.5.13.jar:/usr/local/hadoop-3.2.3/share/hadoop/common/lib/jetty-security-9.4.40.v20210413.jar:/usr/local/hadoop-3.2.3/share/hadoop/common/lib/netty-3.10.6.Final.jar:/usr/local/hadoop-3.2.3/share/hadoop/common/lib/kerby-xdr-1.0.1.jar:/usr/local/hadoop-3.2.3/share/hadoop/common/lib/commons-logging-1.1.3.jar:/usr/local/hadoop-3.2.3/share/hadoop/common/lib/spotbugs-annotations-3.1.9.jar:/usr/local/hadoop-3.2.3/share/hadoop/common/lib/kerb-core-1.0.1.jar:/usr/local/hadoop-3.2.3/share/hadoop/common/lib/woodstox-core-5.3.0.jar:/usr/local/hadoop-3.2.3/share/hadoop/common/lib/avro-1.7.7.jar:/usr/local/hadoop-3.2.3/share/hadoop/common/lib/jetty-util-ajax-9.4.40.v20210413.jar:/usr/local/hadoop-3.2.3/share/hadoop/common/lib/jersey-servlet-1.19.jar:/usr/local/hadoop-3.2.3/share/hadoop/common/lib/token-provider-1.0.1.jar:/usr/local/hadoop-3.2.3/share/hadoop/common/lib/guava-27.0-jre.jar:/usr/local/hadoop-3.2.3/share/hadoop/common/lib/commons-cli-1.2.jar:/usr/local/hadoop-3.2.3/share/hadoop/common/lib/jetty-xml-9.4.40.v20210413.jar:/usr/local/hadoop-3.2.3/share/hadoop/common/lib/commons-text-1.4.jar:/usr/local/hadoop-3.2.3/share/hadoop/common/lib/jcip-annotations-1.0-1.jar:/usr/local/hadoop-3.2.3/share/hadoop/common/lib/jackson-jaxrs-1.9.13.jar:/usr/local/hadoop-3.2.3/share/hadoop/common/lib/stax2-api-4.2.1.jar:/usr/local/hadoop-3.2.3/share/hadoop/common/lib/jetty-servlet-9.4.40.v20210413.jar:/usr/local/hadoop-3.2.3/share/hadoop/common/lib/dnsjava-2.1.7.jar:/usr/local/hadoop-3.2.3/share/hadoop/common/lib/commons-io-2.8.0.jar:/usr/local/hadoop-3.2.3/share/hadoop/common/lib/jaxb-impl-2.2.3-1.jar:/usr/local/hadoop-3.2.3/share/hadoop/common/lib/protobuf-java-2.5.0.jar:/usr/local/hadoop-3.2.3/share/hadoop/common/lib/hadoop-auth-3.2.3.jar:/usr/local/hadoop-3.2.3/share/hadoop/common/lib/kerb-common-1.0.1.jar:/usr/local/hadoop-3.2.3/share/hadoop/common/lib/audience-annotations-0.5.0.jar:/usr/local/hadoop-3.2.3/share/hadoop/common/lib/jackson-core-2.10.5.jar:/usr/local/hadoop-3.2.3/share/hadoop/common/lib/hadoop-annotations-3.2.3.jar:/usr/local/hadoop-3.2.3/share/hadoop/common/lib/error_prone_annotations-2.2.0.jar:/usr/local/hadoop-3.2.3/share/hadoop/common/lib/log4j-1.2.17.jar:/usr/local/hadoop-3.2.3/share/hadoop/common/lib/paranamer-2.3.jar:/usr/local/hadoop-3.2.3/share/hadoop/common/lib/jsch-0.1.55.jar:/usr/local/hadoop-3.2.3/share/hadoop/common/lib/re2j-1.1.jar:/usr/local/hadoop-3.2.3/share/hadoop/common/lib/commons-beanutils-1.9.4.jar:/usr/local/hadoop-3.2.3/share/hadoop/common/lib/jetty-server-9.4.40.v20210413.jar:/usr/local/hadoop-3.2.3/share/hadoop/common/lib/jetty-http-9.4.40.v20210413.jar:/usr/local/hadoop-3.2.3/share/hadoop/common/lib/json-smart-2.4.7.jar:/usr/local/hadoop-3.2.3/share/hadoop/common/lib/kerb-client-1.0.1.jar:/usr/local/hadoop-3.2.3/share/hadoop/common/lib/jackson-mapper-asl-1.9.13.jar:/usr/local/hadoop-3.2.3/share/hadoop/common/lib/j2objc-annotations-1.1.jar:/usr/local/hadoop-3.2.3/share/hadoop/common/lib/htrace-core4-4.1.0-incubating.jar:/usr/local/hadoop-3.2.3/share/hadoop/common/lib/jsp-api-2.1.jar:/usr/local/hadoop-3.2.3/share/hadoop/common/lib/commons-codec-1.11.jar:/usr/local/hadoop-3.2.3/share/hadoop/common/lib/kerby-util-1.0.1.jar:/usr/local/hadoop-3.2.3/share/hadoop/common/lib/snappy-java-1.0.5.jar:/usr/local/hadoop-3.2.3/share/hadoop/common/lib/jersey-server-1.19.jar:/usr/local/hadoop-3.2.3/share/hadoop/common/lib/commons-lang3-3.7.jar:/usr/local/hadoop-3.2.3/share/hadoop/common/lib/jettison-1.1.jar:/usr/local/hadoop-3.2.3/share/hadoop/common/lib/curator-framework-2.13.0.jar:/usr/local/hadoop-3.2.3/share/hadoop/common/hadoop-nfs-3.2.3.jar:/usr/local/hadoop-3.2.3/share/hadoop/common/hadoop-kms-3.2.3.jar:/usr/local/hadoop-3.2.3/share/hadoop/common/hadoop-common-3.2.3-tests.jar:/usr/local/hadoop-3.2.3/share/hadoop/common/hadoop-common-3.2.3.jar:/usr/local/hadoop-3.2.3/share/hadoop/hdfs:/usr/local/hadoop-3.2.3/share/hadoop/hdfs/lib/jsr305-3.0.2.jar:/usr/local/hadoop-3.2.3/share/hadoop/hdfs/lib/commons-net-3.6.jar:/usr/local/hadoop-3.2.3/share/hadoop/hdfs/lib/javax.servlet-api-3.1.0.jar:/usr/local/hadoop-3.2.3/share/hadoop/hdfs/lib/kerb-simplekdc-1.0.1.jar:/usr/local/hadoop-3.2.3/share/hadoop/hdfs/lib/okio-1.6.0.jar:/usr/local/hadoop-3.2.3/share/hadoop/hdfs/lib/jackson-core-asl-1.9.13.jar:/usr/local/hadoop-3.2.3/share/hadoop/hdfs/lib/jaxb-api-2.2.11.jar:/usr/local/hadoop-3.2.3/share/hadoop/hdfs/lib/kerby-config-1.0.1.jar:/usr/local/hadoop-3.2.3/share/hadoop/hdfs/lib/commons-compress-1.21.jar:/usr/local/hadoop-3.2.3/share/hadoop/hdfs/lib/animal-sniffer-annotations-1.17.jar:/usr/local/hadoop-3.2.3/share/hadoop/hdfs/lib/javax.activation-api-1.2.0.jar:/usr/local/hadoop-3.2.3/share/hadoop/hdfs/lib/kerb-util-1.0.1.jar:/usr/local/hadoop-3.2.3/share/hadoop/hdfs/lib/nimbus-jose-jwt-9.8.1.jar:/usr/local/hadoop-3.2.3/share/hadoop/hdfs/lib/jackson-databind-2.10.5.1.jar:/usr/local/hadoop-3.2.3/share/hadoop/hdfs/lib/kerb-server-1.0.1.jar:/usr/local/hadoop-3.2.3/share/hadoop/hdfs/lib/asm-5.0.4.jar:/usr/local/hadoop-3.2.3/share/hadoop/hdfs/lib/jackson-xc-1.9.13.jar:/usr/local/hadoop-3.2.3/share/hadoop/hdfs/lib/jetty-util-9.4.40.v20210413.jar:/usr/local/hadoop-3.2.3/share/hadoop/hdfs/lib/jetty-webapp-9.4.40.v20210413.jar:/usr/local/hadoop-3.2.3/share/hadoop/hdfs/lib/commons-daemon-1.0.13.jar:/usr/local/hadoop-3.2.3/share/hadoop/hdfs/lib/jersey-core-1.19.jar:/usr/local/hadoop-3.2.3/share/hadoop/hdfs/lib/jsr311-api-1.1.1.jar:/usr/local/hadoop-3.2.3/share/hadoop/hdfs/lib/curator-client-2.13.0.jar:/usr/local/hadoop-3.2.3/share/hadoop/hdfs/lib/httpcore-4.4.13.jar:/usr/local/hadoop-3.2.3/share/hadoop/hdfs/lib/kerby-pkix-1.0.1.jar:/usr/local/hadoop-3.2.3/share/hadoop/hdfs/lib/leveldbjni-all-1.8.jar:/usr/local/hadoop-3.2.3/share/hadoop/hdfs/lib/kerb-admin-1.0.1.jar:/usr/local/hadoop-3.2.3/share/hadoop/hdfs/lib/kerby-asn1-1.0.1.jar:/usr/local/hadoop-3.2.3/share/hadoop/hdfs/lib/jackson-annotations-2.10.5.jar:/usr/local/hadoop-3.2.3/share/hadoop/hdfs/lib/commons-configuration2-2.1.1.jar:/usr/local/hadoop-3.2.3/share/hadoop/hdfs/lib/kerb-identity-1.0.1.jar:/usr/local/hadoop-3.2.3/share/hadoop/hdfs/lib/gson-2.2.4.jar:/usr/local/hadoop-3.2.3/share/hadoop/hdfs/lib/commons-collections-3.2.2.jar:/usr/local/hadoop-3.2.3/share/hadoop/hdfs/lib/commons-math3-3.1.1.jar:/usr/local/hadoop-3.2.3/share/hadoop/hdfs/lib/failureaccess-1.0.jar:/usr/local/hadoop-3.2.3/share/hadoop/hdfs/lib/kerb-crypto-1.0.1.jar:/usr/local/hadoop-3.2.3/share/hadoop/hdfs/lib/accessors-smart-2.4.7.jar:/usr/local/hadoop-3.2.3/share/hadoop/hdfs/lib/checker-qual-2.5.2.jar:/usr/local/hadoop-3.2.3/share/hadoop/hdfs/lib/zookeeper-3.4.14.jar:/usr/local/hadoop-3.2.3/share/hadoop/hdfs/lib/curator-recipes-2.13.0.jar:/usr/local/hadoop-3.2.3/share/hadoop/hdfs/lib/jersey-json-1.19.jar:/usr/local/hadoop-3.2.3/share/hadoop/hdfs/lib/listenablefuture-9999.0-empty-to-avoid-conflict-with-guava.jar:/usr/local/hadoop-3.2.3/share/hadoop/hdfs/lib/jetty-io-9.4.40.v20210413.jar:/usr/local/hadoop-3.2.3/share/hadoop/hdfs/lib/httpclient-4.5.13.jar:/usr/local/hadoop-3.2.3/share/hadoop/hdfs/lib/jetty-security-9.4.40.v20210413.jar:/usr/local/hadoop-3.2.3/share/hadoop/hdfs/lib/netty-3.10.6.Final.jar:/usr/local/hadoop-3.2.3/share/hadoop/hdfs/lib/kerby-xdr-1.0.1.jar:/usr/local/hadoop-3.2.3/share/hadoop/hdfs/lib/commons-logging-1.1.3.jar:/usr/local/hadoop-3.2.3/share/hadoop/hdfs/lib/spotbugs-annotations-3.1.9.jar:/usr/local/hadoop-3.2.3/share/hadoop/hdfs/lib/kerb-core-1.0.1.jar:/usr/local/hadoop-3.2.3/share/hadoop/hdfs/lib/woodstox-core-5.3.0.jar:/usr/local/hadoop-3.2.3/share/hadoop/hdfs/lib/netty-all-4.1.68.Final.jar:/usr/local/hadoop-3.2.3/share/hadoop/hdfs/lib/avro-1.7.7.jar:/usr/local/hadoop-3.2.3/share/hadoop/hdfs/lib/jetty-util-ajax-9.4.40.v20210413.jar:/usr/local/hadoop-3.2.3/share/hadoop/hdfs/lib/json-simple-1.1.1.jar:/usr/local/hadoop-3.2.3/share/hadoop/hdfs/lib/jersey-servlet-1.19.jar:/usr/local/hadoop-3.2.3/share/hadoop/hdfs/lib/token-provider-1.0.1.jar:/usr/local/hadoop-3.2.3/share/hadoop/hdfs/lib/guava-27.0-jre.jar:/usr/local/hadoop-3.2.3/share/hadoop/hdfs/lib/commons-cli-1.2.jar:/usr/local/hadoop-3.2.3/share/hadoop/hdfs/lib/jetty-xml-9.4.40.v20210413.jar:/usr/local/hadoop-3.2.3/share/hadoop/hdfs/lib/commons-text-1.4.jar:/usr/local/hadoop-3.2.3/share/hadoop/hdfs/lib/jcip-annotations-1.0-1.jar:/usr/local/hadoop-3.2.3/share/hadoop/hdfs/lib/jackson-jaxrs-1.9.13.jar:/usr/local/hadoop-3.2.3/share/hadoop/hdfs/lib/stax2-api-4.2.1.jar:/usr/local/hadoop-3.2.3/share/hadoop/hdfs/lib/jetty-servlet-9.4.40.v20210413.jar:/usr/local/hadoop-3.2.3/share/hadoop/hdfs/lib/dnsjava-2.1.7.jar:/usr/local/hadoop-3.2.3/share/hadoop/hdfs/lib/commons-io-2.8.0.jar:/usr/local/hadoop-3.2.3/share/hadoop/hdfs/lib/jaxb-impl-2.2.3-1.jar:/usr/local/hadoop-3.2.3/share/hadoop/hdfs/lib/protobuf-java-2.5.0.jar:/usr/local/hadoop-3.2.3/share/hadoop/hdfs/lib/hadoop-auth-3.2.3.jar:/usr/local/hadoop-3.2.3/share/hadoop/hdfs/lib/kerb-common-1.0.1.jar:/usr/local/hadoop-3.2.3/share/hadoop/hdfs/lib/audience-annotations-0.5.0.jar:/usr/local/hadoop-3.2.3/share/hadoop/hdfs/lib/jackson-core-2.10.5.jar:/usr/local/hadoop-3.2.3/share/hadoop/hdfs/lib/hadoop-annotations-3.2.3.jar:/usr/local/hadoop-3.2.3/share/hadoop/hdfs/lib/error_prone_annotations-2.2.0.jar:/usr/local/hadoop-3.2.3/share/hadoop/hdfs/lib/log4j-1.2.17.jar:/usr/local/hadoop-3.2.3/share/hadoop/hdfs/lib/paranamer-2.3.jar:/usr/local/hadoop-3.2.3/share/hadoop/hdfs/lib/jsch-0.1.55.jar:/usr/local/hadoop-3.2.3/share/hadoop/hdfs/lib/okhttp-2.7.5.jar:/usr/local/hadoop-3.2.3/share/hadoop/hdfs/lib/re2j-1.1.jar:/usr/local/hadoop-3.2.3/share/hadoop/hdfs/lib/commons-beanutils-1.9.4.jar:/usr/local/hadoop-3.2.3/share/hadoop/hdfs/lib/jetty-server-9.4.40.v20210413.jar:/usr/local/hadoop-3.2.3/share/hadoop/hdfs/lib/jetty-http-9.4.40.v20210413.jar:/usr/local/hadoop-3.2.3/share/hadoop/hdfs/lib/json-smart-2.4.7.jar:/usr/local/hadoop-3.2.3/share/hadoop/hdfs/lib/kerb-client-1.0.1.jar:/usr/local/hadoop-3.2.3/share/hadoop/hdfs/lib/jackson-mapper-asl-1.9.13.jar:/usr/local/hadoop-3.2.3/share/hadoop/hdfs/lib/j2objc-annotations-1.1.jar:/usr/local/hadoop-3.2.3/share/hadoop/hdfs/lib/htrace-core4-4.1.0-incubating.jar:/usr/local/hadoop-3.2.3/share/hadoop/hdfs/lib/commons-codec-1.11.jar:/usr/local/hadoop-3.2.3/share/hadoop/hdfs/lib/kerby-util-1.0.1.jar:/usr/local/hadoop-3.2.3/share/hadoop/hdfs/lib/snappy-java-1.0.5.jar:/usr/local/hadoop-3.2.3/share/hadoop/hdfs/lib/jersey-server-1.19.jar:/usr/local/hadoop-3.2.3/share/hadoop/hdfs/lib/commons-lang3-3.7.jar:/usr/local/hadoop-3.2.3/share/hadoop/hdfs/lib/jettison-1.1.jar:/usr/local/hadoop-3.2.3/share/hadoop/hdfs/lib/curator-framework-2.13.0.jar:/usr/local/hadoop-3.2.3/share/hadoop/hdfs/hadoop-hdfs-native-client-3.2.3.jar:/usr/local/hadoop-3.2.3/share/hadoop/hdfs/hadoop-hdfs-native-client-3.2.3-tests.jar:/usr/local/hadoop-3.2.3/share/hadoop/hdfs/hadoop-hdfs-nfs-3.2.3.jar:/usr/local/hadoop-3.2.3/share/hadoop/hdfs/hadoop-hdfs-httpfs-3.2.3.jar:/usr/local/hadoop-3.2.3/share/hadoop/hdfs/hadoop-hdfs-client-3.2.3-tests.jar:/usr/local/hadoop-3.2.3/share/hadoop/hdfs/hadoop-hdfs-rbf-3.2.3-tests.jar:/usr/local/hadoop-3.2.3/share/hadoop/hdfs/hadoop-hdfs-3.2.3.jar:/usr/local/hadoop-3.2.3/share/hadoop/hdfs/hadoop-hdfs-rbf-3.2.3.jar:/usr/local/hadoop-3.2.3/share/hadoop/hdfs/hadoop-hdfs-client-3.2.3.jar:/usr/local/hadoop-3.2.3/share/hadoop/hdfs/hadoop-hdfs-3.2.3-tests.jar:/usr/local/hadoop-3.2.3/share/hadoop/mapreduce/lib/hamcrest-core-1.3.jar:/usr/local/hadoop-3.2.3/share/hadoop/mapreduce/lib/junit-4.13.2.jar:/usr/local/hadoop-3.2.3/share/hadoop/mapreduce/hadoop-mapreduce-client-jobclient-3.2.3.jar:/usr/local/hadoop-3.2.3/share/hadoop/mapreduce/hadoop-mapreduce-client-app-3.2.3.jar:/usr/local/hadoop-3.2.3/share/hadoop/mapreduce/hadoop-mapreduce-client-nativetask-3.2.3.jar:/usr/local/hadoop-3.2.3/share/hadoop/mapreduce/hadoop-mapreduce-client-jobclient-3.2.3-tests.jar:/usr/local/hadoop-3.2.3/share/hadoop/mapreduce/hadoop-mapreduce-client-core-3.2.3.jar:/usr/local/hadoop-3.2.3/share/hadoop/mapreduce/hadoop-mapreduce-client-hs-3.2.3.jar:/usr/local/hadoop-3.2.3/share/hadoop/mapreduce/hadoop-mapreduce-client-hs-plugins-3.2.3.jar:/usr/local/hadoop-3.2.3/share/hadoop/mapreduce/hadoop-mapreduce-examples-3.2.3.jar:/usr/local/hadoop-3.2.3/share/hadoop/mapreduce/hadoop-mapreduce-client-common-3.2.3.jar:/usr/local/hadoop-3.2.3/share/hadoop/mapreduce/hadoop-mapreduce-client-shuffle-3.2.3.jar:/usr/local/hadoop-3.2.3/share/hadoop/mapreduce/hadoop-mapreduce-client-uploader-3.2.3.jar:/usr/local/hadoop-3.2.3/share/hadoop/yarn:/usr/local/hadoop-3.2.3/share/hadoop/yarn/lib/swagger-annotations-1.5.4.jar:/usr/local/hadoop-3.2.3/share/hadoop/yarn/lib/metrics-core-3.2.4.jar:/usr/local/hadoop-3.2.3/share/hadoop/yarn/lib/HikariCP-java7-2.4.12.jar:/usr/local/hadoop-3.2.3/share/hadoop/yarn/lib/bcpkix-jdk15on-1.60.jar:/usr/local/hadoop-3.2.3/share/hadoop/yarn/lib/jersey-guice-1.19.jar:/usr/local/hadoop-3.2.3/share/hadoop/yarn/lib/json-io-2.5.1.jar:/usr/local/hadoop-3.2.3/share/hadoop/yarn/lib/bcprov-jdk15on-1.60.jar:/usr/local/hadoop-3.2.3/share/hadoop/yarn/lib/ehcache-3.3.1.jar:/usr/local/hadoop-3.2.3/share/hadoop/yarn/lib/snakeyaml-1.26.jar:/usr/local/hadoop-3.2.3/share/hadoop/yarn/lib/jersey-client-1.19.jar:/usr/local/hadoop-3.2.3/share/hadoop/yarn/lib/mssql-jdbc-6.2.1.jre7.jar:/usr/local/hadoop-3.2.3/share/hadoop/yarn/lib/jackson-jaxrs-json-provider-2.10.5.jar:/usr/local/hadoop-3.2.3/share/hadoop/yarn/lib/geronimo-jcache_1.0_spec-1.0-alpha-1.jar:/usr/local/hadoop-3.2.3/share/hadoop/yarn/lib/aopalliance-1.0.jar:/usr/local/hadoop-3.2.3/share/hadoop/yarn/lib/jakarta.activation-api-1.2.1.jar:/usr/local/hadoop-3.2.3/share/hadoop/yarn/lib/javax.inject-1.jar:/usr/local/hadoop-3.2.3/share/hadoop/yarn/lib/guice-4.0.jar:/usr/local/hadoop-3.2.3/share/hadoop/yarn/lib/jackson-jaxrs-base-2.10.5.jar:/usr/local/hadoop-3.2.3/share/hadoop/yarn/lib/jakarta.xml.bind-api-2.3.2.jar:/usr/local/hadoop-3.2.3/share/hadoop/yarn/lib/guice-servlet-4.0.jar:/usr/local/hadoop-3.2.3/share/hadoop/yarn/lib/jackson-module-jaxb-annotations-2.10.5.jar:/usr/local/hadoop-3.2.3/share/hadoop/yarn/lib/objenesis-1.0.jar:/usr/local/hadoop-3.2.3/share/hadoop/yarn/lib/java-util-1.9.0.jar:/usr/local/hadoop-3.2.3/share/hadoop/yarn/lib/fst-2.50.jar:/usr/local/hadoop-3.2.3/share/hadoop/yarn/hadoop-yarn-server-nodemanager-3.2.3.jar:/usr/local/hadoop-3.2.3/share/hadoop/yarn/hadoop-yarn-server-router-3.2.3.jar:/usr/local/hadoop-3.2.3/share/hadoop/yarn/hadoop-yarn-server-common-3.2.3.jar:/usr/local/hadoop-3.2.3/share/hadoop/yarn/hadoop-yarn-server-tests-3.2.3.jar:/usr/local/hadoop-3.2.3/share/hadoop/yarn/hadoop-yarn-services-api-3.2.3.jar:/usr/local/hadoop-3.2.3/share/hadoop/yarn/hadoop-yarn-applications-distributedshell-3.2.3.jar:/usr/local/hadoop-3.2.3/share/hadoop/yarn/hadoop-yarn-server-sharedcachemanager-3.2.3.jar:/usr/local/hadoop-3.2.3/share/hadoop/yarn/hadoop-yarn-submarine-3.2.3.jar:/usr/local/hadoop-3.2.3/share/hadoop/yarn/hadoop-yarn-server-web-proxy-3.2.3.jar:/usr/local/hadoop-3.2.3/share/hadoop/yarn/hadoop-yarn-client-3.2.3.jar:/usr/local/hadoop-3.2.3/share/hadoop/yarn/hadoop-yarn-registry-3.2.3.jar:/usr/local/hadoop-3.2.3/share/hadoop/yarn/hadoop-yarn-server-applicationhistoryservice-3.2.3.jar:/usr/local/hadoop-3.2.3/share/hadoop/yarn/hadoop-yarn-applications-unmanaged-am-launcher-3.2.3.jar:/usr/local/hadoop-3.2.3/share/hadoop/yarn/hadoop-yarn-server-timeline-pluginstorage-3.2.3.jar:/usr/local/hadoop-3.2.3/share/hadoop/yarn/hadoop-yarn-api-3.2.3.jar:/usr/local/hadoop-3.2.3/share/hadoop/yarn/hadoop-yarn-server-resourcemanager-3.2.3.jar:/usr/local/hadoop-3.2.3/share/hadoop/yarn/hadoop-yarn-services-core-3.2.3.jar:/usr/local/hadoop-3.2.3/share/hadoop/yarn/hadoop-yarn-common-3.2.3.jar\n",
            "STARTUP_MSG:   build = https://github.com/apache/hadoop -r abe5358143720085498613d399be3bbf01e0f131; compiled by 'ubuntu' on 2022-03-20T01:18Z\n",
            "STARTUP_MSG:   java = 1.8.0_402\n",
            "************************************************************/\n",
            "2024-05-04 12:56:35,439 INFO namenode.NameNode: registered UNIX signal handlers for [TERM, HUP, INT]\n",
            "2024-05-04 12:56:35,612 INFO namenode.NameNode: createNameNode [-format]\n",
            "Formatting using clusterid: CID-eb75881b-f8be-43ed-be1e-fe4499c35f8d\n",
            "2024-05-04 12:56:36,502 INFO namenode.FSEditLog: Edit logging is async:true\n",
            "2024-05-04 12:56:36,545 INFO namenode.FSNamesystem: KeyProvider: null\n",
            "2024-05-04 12:56:36,547 INFO namenode.FSNamesystem: fsLock is fair: true\n",
            "2024-05-04 12:56:36,548 INFO namenode.FSNamesystem: Detailed lock hold time metrics enabled: false\n",
            "2024-05-04 12:56:36,557 INFO namenode.FSNamesystem: fsOwner             = root (auth:SIMPLE)\n",
            "2024-05-04 12:56:36,557 INFO namenode.FSNamesystem: supergroup          = supergroup\n",
            "2024-05-04 12:56:36,557 INFO namenode.FSNamesystem: isPermissionEnabled = true\n",
            "2024-05-04 12:56:36,557 INFO namenode.FSNamesystem: HA Enabled: false\n",
            "2024-05-04 12:56:36,617 INFO common.Util: dfs.datanode.fileio.profiling.sampling.percentage set to 0. Disabling file IO profiling\n",
            "2024-05-04 12:56:36,649 INFO blockmanagement.DatanodeManager: dfs.block.invalidate.limit: configured=1000, counted=60, effected=1000\n",
            "2024-05-04 12:56:36,649 INFO blockmanagement.DatanodeManager: dfs.namenode.datanode.registration.ip-hostname-check=true\n",
            "2024-05-04 12:56:36,656 INFO blockmanagement.BlockManager: dfs.namenode.startup.delay.block.deletion.sec is set to 000:00:00:00.000\n",
            "2024-05-04 12:56:36,656 INFO blockmanagement.BlockManager: The block deletion will start around 2024 May 04 12:56:36\n",
            "2024-05-04 12:56:36,659 INFO util.GSet: Computing capacity for map BlocksMap\n",
            "2024-05-04 12:56:36,660 INFO util.GSet: VM type       = 64-bit\n",
            "2024-05-04 12:56:36,661 INFO util.GSet: 2.0% max memory 2.8 GB = 57.7 MB\n",
            "2024-05-04 12:56:36,661 INFO util.GSet: capacity      = 2^23 = 8388608 entries\n",
            "2024-05-04 12:56:36,681 INFO blockmanagement.BlockManager: Storage policy satisfier is disabled\n",
            "2024-05-04 12:56:36,682 INFO blockmanagement.BlockManager: dfs.block.access.token.enable = false\n",
            "2024-05-04 12:56:36,690 INFO blockmanagement.BlockManagerSafeMode: dfs.namenode.safemode.threshold-pct = 0.9990000128746033\n",
            "2024-05-04 12:56:36,690 INFO blockmanagement.BlockManagerSafeMode: dfs.namenode.safemode.min.datanodes = 0\n",
            "2024-05-04 12:56:36,690 INFO blockmanagement.BlockManagerSafeMode: dfs.namenode.safemode.extension = 30000\n",
            "2024-05-04 12:56:36,690 INFO blockmanagement.BlockManager: defaultReplication         = 1\n",
            "2024-05-04 12:56:36,691 INFO blockmanagement.BlockManager: maxReplication             = 512\n",
            "2024-05-04 12:56:36,691 INFO blockmanagement.BlockManager: minReplication             = 1\n",
            "2024-05-04 12:56:36,691 INFO blockmanagement.BlockManager: maxReplicationStreams      = 2\n",
            "2024-05-04 12:56:36,691 INFO blockmanagement.BlockManager: redundancyRecheckInterval  = 3000ms\n",
            "2024-05-04 12:56:36,691 INFO blockmanagement.BlockManager: encryptDataTransfer        = false\n",
            "2024-05-04 12:56:36,691 INFO blockmanagement.BlockManager: maxNumBlocksToLog          = 1000\n",
            "2024-05-04 12:56:36,719 INFO namenode.FSDirectory: GLOBAL serial map: bits=29 maxEntries=536870911\n",
            "2024-05-04 12:56:36,720 INFO namenode.FSDirectory: USER serial map: bits=24 maxEntries=16777215\n",
            "2024-05-04 12:56:36,720 INFO namenode.FSDirectory: GROUP serial map: bits=24 maxEntries=16777215\n",
            "2024-05-04 12:56:36,720 INFO namenode.FSDirectory: XATTR serial map: bits=24 maxEntries=16777215\n",
            "2024-05-04 12:56:36,736 INFO util.GSet: Computing capacity for map INodeMap\n",
            "2024-05-04 12:56:36,736 INFO util.GSet: VM type       = 64-bit\n",
            "2024-05-04 12:56:36,737 INFO util.GSet: 1.0% max memory 2.8 GB = 28.9 MB\n",
            "2024-05-04 12:56:36,737 INFO util.GSet: capacity      = 2^22 = 4194304 entries\n",
            "2024-05-04 12:56:36,747 INFO namenode.FSDirectory: ACLs enabled? false\n",
            "2024-05-04 12:56:36,747 INFO namenode.FSDirectory: POSIX ACL inheritance enabled? true\n",
            "2024-05-04 12:56:36,747 INFO namenode.FSDirectory: XAttrs enabled? true\n",
            "2024-05-04 12:56:36,748 INFO namenode.NameNode: Caching file names occurring more than 10 times\n",
            "2024-05-04 12:56:36,768 INFO snapshot.SnapshotManager: Loaded config captureOpenFiles: false, skipCaptureAccessTimeOnlyChange: false, snapshotDiffAllowSnapRootDescendant: true, maxSnapshotLimit: 65536\n",
            "2024-05-04 12:56:36,779 INFO snapshot.SnapshotManager: SkipList is disabled\n",
            "2024-05-04 12:56:36,785 INFO util.GSet: Computing capacity for map cachedBlocks\n",
            "2024-05-04 12:56:36,786 INFO util.GSet: VM type       = 64-bit\n",
            "2024-05-04 12:56:36,786 INFO util.GSet: 0.25% max memory 2.8 GB = 7.2 MB\n",
            "2024-05-04 12:56:36,786 INFO util.GSet: capacity      = 2^20 = 1048576 entries\n",
            "2024-05-04 12:56:36,803 INFO metrics.TopMetrics: NNTop conf: dfs.namenode.top.window.num.buckets = 10\n",
            "2024-05-04 12:56:36,803 INFO metrics.TopMetrics: NNTop conf: dfs.namenode.top.num.users = 10\n",
            "2024-05-04 12:56:36,803 INFO metrics.TopMetrics: NNTop conf: dfs.namenode.top.windows.minutes = 1,5,25\n",
            "2024-05-04 12:56:36,810 INFO namenode.FSNamesystem: Retry cache on namenode is enabled\n",
            "2024-05-04 12:56:36,810 INFO namenode.FSNamesystem: Retry cache will use 0.03 of total heap and retry cache entry expiry time is 600000 millis\n",
            "2024-05-04 12:56:36,813 INFO util.GSet: Computing capacity for map NameNodeRetryCache\n",
            "2024-05-04 12:56:36,813 INFO util.GSet: VM type       = 64-bit\n",
            "2024-05-04 12:56:36,813 INFO util.GSet: 0.029999999329447746% max memory 2.8 GB = 886.4 KB\n",
            "2024-05-04 12:56:36,813 INFO util.GSet: capacity      = 2^17 = 131072 entries\n",
            "2024-05-04 12:56:36,856 INFO namenode.FSImage: Allocated new BlockPoolId: BP-2086641184-172.28.0.12-1714827396843\n",
            "2024-05-04 12:56:36,889 INFO common.Storage: Storage directory /tmp/hadoop-root/dfs/name has been successfully formatted.\n",
            "2024-05-04 12:56:36,937 INFO namenode.FSImageFormatProtobuf: Saving image file /tmp/hadoop-root/dfs/name/current/fsimage.ckpt_0000000000000000000 using no compression\n",
            "2024-05-04 12:56:37,081 INFO namenode.FSImageFormatProtobuf: Image file /tmp/hadoop-root/dfs/name/current/fsimage.ckpt_0000000000000000000 of size 399 bytes saved in 0 seconds .\n",
            "2024-05-04 12:56:37,108 INFO namenode.NNStorageRetentionManager: Going to retain 1 images with txid >= 0\n",
            "2024-05-04 12:56:37,160 INFO namenode.FSNamesystem: Stopping services started for active state\n",
            "2024-05-04 12:56:37,160 INFO namenode.FSNamesystem: Stopping services started for standby state\n",
            "2024-05-04 12:56:37,168 INFO namenode.FSImage: FSImageSaver clean checkpoint: txid=0 when meet shutdown.\n",
            "2024-05-04 12:56:37,168 INFO namenode.NameNode: SHUTDOWN_MSG: \n",
            "/************************************************************\n",
            "SHUTDOWN_MSG: Shutting down NameNode at 7c8cea03b113/172.28.0.12\n",
            "************************************************************/\n",
            "Starting namenodes on [localhost]\n",
            "Starting datanodes\n",
            "Starting secondary namenodes [7c8cea03b113]\n",
            "7c8cea03b113: Warning: Permanently added '7c8cea03b113' (ED25519) to the list of known hosts.\n",
            "nohup: ignoring input and appending output to 'nohup.out'\n",
            "2256 Jps\n",
            "2032 ResourceManager\n",
            "1765 SecondaryNameNode\n",
            "2138 NodeManager\n",
            "1579 DataNode\n",
            "1471 NameNode\n"
          ]
        }
      ]
    },
    {
      "cell_type": "code",
      "source": [
        "#Report the basic file system information and statistics\n",
        "!$HADOOP_HOME/bin/hdfs dfsadmin -report"
      ],
      "metadata": {
        "colab": {
          "base_uri": "https://localhost:8080/"
        },
        "id": "Wq-a18V6q0Ut",
        "outputId": "eab5e19d-1592-4f33-de33-e9be294792f8"
      },
      "execution_count": 7,
      "outputs": [
        {
          "output_type": "stream",
          "name": "stdout",
          "text": [
            "Configured Capacity: 115658190848 (107.72 GB)\n",
            "Present Capacity: 85084016640 (79.24 GB)\n",
            "DFS Remaining: 85083992064 (79.24 GB)\n",
            "DFS Used: 24576 (24 KB)\n",
            "DFS Used%: 0.00%\n",
            "Replicated Blocks:\n",
            "\tUnder replicated blocks: 0\n",
            "\tBlocks with corrupt replicas: 0\n",
            "\tMissing blocks: 0\n",
            "\tMissing blocks (with replication factor 1): 0\n",
            "\tLow redundancy blocks with highest priority to recover: 0\n",
            "\tPending deletion blocks: 0\n",
            "Erasure Coded Block Groups: \n",
            "\tLow redundancy block groups: 0\n",
            "\tBlock groups with corrupt internal blocks: 0\n",
            "\tMissing block groups: 0\n",
            "\tLow redundancy blocks with highest priority to recover: 0\n",
            "\tPending deletion blocks: 0\n",
            "\n",
            "-------------------------------------------------\n",
            "Live datanodes (1):\n",
            "\n",
            "Name: 127.0.0.1:9866 (localhost)\n",
            "Hostname: 7c8cea03b113\n",
            "Decommission Status : Normal\n",
            "Configured Capacity: 115658190848 (107.72 GB)\n",
            "DFS Used: 24576 (24 KB)\n",
            "Non DFS Used: 30557396992 (28.46 GB)\n",
            "DFS Remaining: 85083992064 (79.24 GB)\n",
            "DFS Used%: 0.00%\n",
            "DFS Remaining%: 73.57%\n",
            "Configured Cache Capacity: 0 (0 B)\n",
            "Cache Used: 0 (0 B)\n",
            "Cache Remaining: 0 (0 B)\n",
            "Cache Used%: 100.00%\n",
            "Cache Remaining%: 0.00%\n",
            "Xceivers: 1\n",
            "Last contact: Sat May 04 12:57:17 UTC 2024\n",
            "Last Block Report: Sat May 04 12:56:53 UTC 2024\n",
            "Num of Blocks: 0\n",
            "\n",
            "\n"
          ]
        }
      ]
    },
    {
      "cell_type": "markdown",
      "source": [
        "# Map Reduce Menggunakan Python\n",
        "\n"
      ],
      "metadata": {
        "id": "3CLcg0WhJHkN"
      }
    },
    {
      "cell_type": "code",
      "source": [
        "#Exploring Hadoop utilities available\n",
        "!ls $HADOOP_HOME/share/hadoop/tools/lib/"
      ],
      "metadata": {
        "id": "4osdxsC9JQ5w",
        "colab": {
          "base_uri": "https://localhost:8080/"
        },
        "outputId": "b4746f46-fa6a-4bcc-9a80-e5c343eeb5d6"
      },
      "execution_count": 8,
      "outputs": [
        {
          "output_type": "stream",
          "name": "stdout",
          "text": [
            "aliyun-java-sdk-core-4.5.10.jar      hadoop-gridmix-3.2.3.jar\n",
            "aliyun-java-sdk-kms-2.11.0.jar\t     hadoop-kafka-3.2.3.jar\n",
            "aliyun-java-sdk-ram-3.1.0.jar\t     hadoop-openstack-3.2.3.jar\n",
            "aliyun-sdk-oss-3.13.0.jar\t     hadoop-resourceestimator-3.2.3.jar\n",
            "aws-java-sdk-bundle-1.11.901.jar     hadoop-rumen-3.2.3.jar\n",
            "azure-data-lake-store-sdk-2.2.9.jar  hadoop-sls-3.2.3.jar\n",
            "azure-keyvault-core-1.0.0.jar\t     hadoop-streaming-3.2.3.jar\n",
            "azure-storage-7.0.0.jar\t\t     ini4j-0.5.4.jar\n",
            "hadoop-aliyun-3.2.3.jar\t\t     jdom2-2.0.6.jar\n",
            "hadoop-archive-logs-3.2.3.jar\t     kafka-clients-2.8.1.jar\n",
            "hadoop-archives-3.2.3.jar\t     lz4-java-1.7.1.jar\n",
            "hadoop-aws-3.2.3.jar\t\t     ojalgo-43.0.jar\n",
            "hadoop-azure-3.2.3.jar\t\t     opentracing-api-0.33.0.jar\n",
            "hadoop-azure-datalake-3.2.3.jar      opentracing-noop-0.33.0.jar\n",
            "hadoop-datajoin-3.2.3.jar\t     opentracing-util-0.33.0.jar\n",
            "hadoop-distcp-3.2.3.jar\t\t     org.jacoco.agent-0.8.5-runtime.jar\n",
            "hadoop-extras-3.2.3.jar\t\t     wildfly-openssl-1.0.7.Final.jar\n",
            "hadoop-fs2img-3.2.3.jar\t\t     zstd-jni-1.4.9-1.jar\n"
          ]
        }
      ]
    },
    {
      "cell_type": "code",
      "source": [
        "#Dowloading text example to use as input\n",
        "!wget -q https://www.gutenberg.org/cache/epub/73525/pg73525.txt"
      ],
      "metadata": {
        "id": "mLPaClCtJWhF"
      },
      "execution_count": 9,
      "outputs": []
    },
    {
      "cell_type": "code",
      "source": [
        "#Creating directory in HDFS\n",
        "!$HADOOP_HOME/bin/hdfs dfs -mkdir /zdn_hw"
      ],
      "metadata": {
        "id": "boNSR9-i7Iwu"
      },
      "execution_count": 10,
      "outputs": []
    },
    {
      "cell_type": "code",
      "source": [
        "#Copying the file from local file system to Hadoop distributed file system (HDFS)\n",
        "!$HADOOP_HOME/bin/hdfs dfs -put /content/pg73525.txt /zdn_hw"
      ],
      "metadata": {
        "id": "27_VS29aJqIU"
      },
      "execution_count": 11,
      "outputs": []
    },
    {
      "cell_type": "markdown",
      "source": [
        "## Mapper\n",
        "\n",
        "Mapper adalah komponen dalam MapReduce yang memproses dan mengelompokkan data input menjadi pasangan kunci-nilai."
      ],
      "metadata": {
        "id": "e_ohvG4TJv0i"
      }
    },
    {
      "cell_type": "code",
      "source": [
        "%%writefile mapper.py\n",
        "#!/usr/bin/env python\n",
        "\n",
        "import sys\n",
        "\n",
        "# Mapper membaca setiap baris dari STDIN\n",
        "for line in sys.stdin:\n",
        "    line = line.strip()  # Menghapus spasi di awal dan akhir\n",
        "    if 'me' in line:  # Periksa jika kata 'me' ada dalam baris\n",
        "        print('%s\\t%s' % (line, 1))\n"
      ],
      "metadata": {
        "id": "vljuf9INJ7p5",
        "colab": {
          "base_uri": "https://localhost:8080/"
        },
        "outputId": "282cbe52-ffda-4d5d-dc2b-06acb9916ef8"
      },
      "execution_count": 12,
      "outputs": [
        {
          "output_type": "stream",
          "name": "stdout",
          "text": [
            "Writing mapper.py\n"
          ]
        }
      ]
    },
    {
      "cell_type": "markdown",
      "source": [
        "#Reducer\n",
        "Reducer adalah komponen dalam MapReduce yang mengolah pasangan kunci-nilai dari Mapper untuk menghasilkan output yang teragregasi atau diringkas."
      ],
      "metadata": {
        "id": "MIMxfs08KI09"
      }
    },
    {
      "cell_type": "code",
      "source": [
        "%%writefile reducer.py\n",
        "#!/usr/bin/env python\n",
        "\n",
        "import sys\n",
        "\n",
        "current_sentence = None\n",
        "sentence_count = 0\n",
        "total_sentences_with_me = 0\n",
        "\n",
        "# Membaca input dari STDIN\n",
        "for line in sys.stdin:\n",
        "    line = line.strip()\n",
        "    sentence, count = line.split('\\t', 1)\n",
        "\n",
        "    # Mengonversi count menjadi integer\n",
        "    try:\n",
        "        count = int(count)\n",
        "    except ValueError:\n",
        "        continue\n",
        "\n",
        "    # Jika kalimat sama dengan kalimat saat ini, tambahkan count\n",
        "    if current_sentence == sentence:\n",
        "        sentence_count += count\n",
        "    else:\n",
        "        if current_sentence:\n",
        "            # Cetak hanya kalimat tanpa jumlah\n",
        "            print('Kalimat: \"%s\"' % current_sentence)\n",
        "            total_sentences_with_me += sentence_count\n",
        "        current_sentence = sentence\n",
        "        sentence_count = count\n",
        "\n",
        "# Jangan lupa untuk mencetak kalimat terakhir jika ada\n",
        "if current_sentence:\n",
        "    print('Kalimat: \"%s\"' % current_sentence)\n",
        "    total_sentences_with_me += sentence_count\n",
        "\n",
        "# Mencetak total kalimat yang mengandung 'me'\n",
        "print('Total kalimat yang mengandung \"me\": %s' % total_sentences_with_me)\n"
      ],
      "metadata": {
        "id": "Fc65oALSKJ-f",
        "colab": {
          "base_uri": "https://localhost:8080/"
        },
        "outputId": "bd087622-da9f-45d0-d682-73b5e8aed3dd"
      },
      "execution_count": 13,
      "outputs": [
        {
          "output_type": "stream",
          "name": "stdout",
          "text": [
            "Writing reducer.py\n"
          ]
        }
      ]
    },
    {
      "cell_type": "code",
      "source": [
        "#Testing our MapReduce job locally (Hadoop does not participate here)\n",
        "!cat pg73525.txt | python mapper.py | sort -k1,1 | python reducer.py | head -50\n",
        "#We apply sorting after the mapper because it is the default operation in MapReduce architecture"
      ],
      "metadata": {
        "id": "XsWgDe70KRQ7",
        "colab": {
          "base_uri": "https://localhost:8080/"
        },
        "outputId": "d1802ebd-30f7-48c6-ca13-ab1b8c4c532e"
      },
      "execution_count": 14,
      "outputs": [
        {
          "output_type": "stream",
          "name": "stdout",
          "text": [
            "Kalimat: \"• You comply with all other terms of this agreement for free\"\n",
            "Kalimat: \"1.F.4. Except for the limited right of replacement or refund set forth\"\n",
            "Kalimat: \"1.F.5. Some states do not allow disclaimers of certain implied\"\n",
            "Kalimat: \"accordance with this agreement, and any volunteers associated with the\"\n",
            "Kalimat: \"active links or immediate access to the full terms of the Project\"\n",
            "Kalimat: \"agree to be bound by the terms of this agreement. There are a few\"\n",
            "Kalimat: \"agreement and help preserve free future access to Project Gutenberg™\"\n",
            "Kalimat: \"agreement before downloading, copying, displaying, performing,\"\n",
            "Kalimat: \"agreement shall be interpreted to make the maximum disclaimer or\"\n",
            "Kalimat: \"airmen are made need not know anything--or much. See the point? You’re\"\n",
            "Kalimat: \"all set to fly alone. Then, that same day, they took the 23 away. The\"\n",
            "Kalimat: \"and came out in language that lay people erroneously suppose is solely\"\n",
            "Kalimat: \"and robs me but my ex-cook, that rotten cook, Shane, and--” There were\"\n",
            "Kalimat: \"any money paid for a work or a replacement copy, if a defect in the\"\n",
            "Kalimat: \"any statements concerning tax treatment of donations received from\"\n",
            "Kalimat: \"Any number of ex-overseas men could answer this.\"\n",
            "Kalimat: \"are set forth in this agreement, you must obtain permission in writing\"\n",
            "Kalimat: \"array of equipment including outdated equipment. Many small donations\"\n",
            "Kalimat: \"be renamed.\"\n",
            "Kalimat: \"Black. Had myself nicely planted in the rear seat, and who comes out\"\n",
            "Kalimat: \"Bob Watts was flying it this morning and he had the same trouble.”\"\n",
            "Kalimat: \"“But this time you will,” the lieutenant said. “This school has the\"\n",
            "Kalimat: \"“But, Sciples,” the sergeant said. “It’s the same old story. The same\"\n",
            "Kalimat: \"But the sergeant turned out to be a handy mechanic. Good mechanics were\"\n",
            "Kalimat: \"by the terms of this agreement, you may obtain a refund from the person\"\n",
            "Kalimat: \"“By this time next Monday afternoon, America will have one more\"\n",
            "Kalimat: \"cannot be read by your equipment.\"\n",
            "Kalimat: \"certain souvenirs. And at no time did he allow hangar work to cut in on\"\n",
            "Kalimat: \"civilian on her hands. And she’s going to collect a mean problem, too.\"\n",
            "Kalimat: \"comply with the terms of this agreement by keeping this work in the\"\n",
            "Kalimat: \"considerable effort, much paperwork and many fees to meet and keep up\"\n",
            "Kalimat: \"copies of the works possessed in a physical medium and discontinue\"\n",
            "Kalimat: \"“Crazy as a loon!” Sciples exclaimed. “Why you--you don’t know enough\"\n",
            "Kalimat: \"cubes on a work bench, the sergeant came down in hot wrath, threw the\"\n",
            "Kalimat: \"damages. If any disclaimer or limitation set forth in this agreement\"\n",
            "Kalimat: \"“Damned if she ain’t got me stopped! On the ground here, everything’s\"\n",
            "Kalimat: \"editions, all of which are confirmed as not protected by copyright in\"\n",
            "Kalimat: \"either with the requirements of paragraphs 1.E.1 through 1.E.7 or\"\n",
            "Kalimat: \"electronic works, and the medium on which they may be stored, may\"\n",
            "Kalimat: \"even without complying with the full terms of this agreement. See\"\n",
            "Kalimat: \"fact that a ship’s action was in question meant nothing to him. More\"\n",
            "Kalimat: \"feller ever did for American honor was lap up French booze and make\"\n",
            "Kalimat: \"flying on the tail end of a rocket were no other means offered. The\"\n",
            "Kalimat: \"for the field inspector, Blackie Milander. He came along and demanded--\"\n",
            "Kalimat: \"giving a right arm for something is nothing. I’d do another stretch in\"\n",
            "Kalimat: \"Gutenberg Literary Archive Foundation. Royalty payments must be paid\"\n",
            "Kalimat: \"Gutenberg™ electronic work under this agreement, disclaim all\"\n",
            "Kalimat: \"happy end, the end which was going to be so welcome because he did not\"\n",
            "Kalimat: \"have not met the solicitation requirements, we know of no prohibition\"\n",
            "Kalimat: \"his hands. Once in the air he merely had to gain the feel of the thing.\"\n",
            "Exception ignored in: <_io.TextIOWrapper name='<stdout>' mode='w' encoding='utf-8'>\n",
            "BrokenPipeError: [Errno 32] Broken pipe\n"
          ]
        }
      ]
    },
    {
      "cell_type": "code",
      "source": [
        "#Changing the permissions of the files\n",
        "!chmod 777 /content/mapper.py /content/reducer.py\n",
        "#Setting 777 permissions to a file or directory means that it will be readable, writable and executable by all users"
      ],
      "metadata": {
        "id": "KP-eJJ3-KUkW"
      },
      "execution_count": 15,
      "outputs": []
    },
    {
      "cell_type": "code",
      "source": [
        "\n",
        "#Running MapReduce programs\n",
        "!$HADOOP_HOME/bin/hadoop jar $HADOOP_HOME/share/hadoop/tools/lib/hadoop-streaming-3.2.3.jar \\\n",
        "  -input /zdn_hw/pg73525.txt \\\n",
        "  -output /zdn_hw/output \\\n",
        "  -mapper \"python /content/mapper.py\" \\\n",
        "  -reducer \"python /content/reducer.py\""
      ],
      "metadata": {
        "id": "hHZusUv6KWjH",
        "colab": {
          "base_uri": "https://localhost:8080/"
        },
        "outputId": "8dcef68b-81ce-46b3-9812-c9a68af4c527"
      },
      "execution_count": 16,
      "outputs": [
        {
          "output_type": "stream",
          "name": "stdout",
          "text": [
            "packageJobJar: [/tmp/hadoop-unjar241783165532311732/] [] /tmp/streamjob4092437308045423772.jar tmpDir=null\n",
            "2024-05-04 12:58:01,758 INFO client.RMProxy: Connecting to ResourceManager at localhost/127.0.0.1:8032\n",
            "2024-05-04 12:58:02,067 INFO client.RMProxy: Connecting to ResourceManager at localhost/127.0.0.1:8032\n",
            "2024-05-04 12:58:02,446 INFO mapreduce.JobResourceUploader: Disabling Erasure Coding for path: /tmp/hadoop-yarn/staging/root/.staging/job_1714827430539_0001\n",
            "2024-05-04 12:58:02,829 INFO mapred.FileInputFormat: Total input files to process : 1\n",
            "2024-05-04 12:58:03,764 INFO mapreduce.JobSubmitter: number of splits:2\n",
            "2024-05-04 12:58:04,004 INFO mapreduce.JobSubmitter: Submitting tokens for job: job_1714827430539_0001\n",
            "2024-05-04 12:58:04,006 INFO mapreduce.JobSubmitter: Executing with tokens: []\n",
            "2024-05-04 12:58:04,308 INFO conf.Configuration: resource-types.xml not found\n",
            "2024-05-04 12:58:04,308 INFO resource.ResourceUtils: Unable to find 'resource-types.xml'.\n",
            "2024-05-04 12:58:04,983 INFO impl.YarnClientImpl: Submitted application application_1714827430539_0001\n",
            "2024-05-04 12:58:05,193 INFO mapreduce.Job: The url to track the job: http://7c8cea03b113:8088/proxy/application_1714827430539_0001/\n",
            "2024-05-04 12:58:05,196 INFO mapreduce.Job: Running job: job_1714827430539_0001\n",
            "2024-05-04 12:58:18,596 INFO mapreduce.Job: Job job_1714827430539_0001 running in uber mode : false\n",
            "2024-05-04 12:58:18,597 INFO mapreduce.Job:  map 0% reduce 0%\n",
            "2024-05-04 12:58:29,858 INFO mapreduce.Job:  map 100% reduce 0%\n",
            "2024-05-04 12:58:37,987 INFO mapreduce.Job:  map 100% reduce 100%\n",
            "2024-05-04 12:58:39,006 INFO mapreduce.Job: Job job_1714827430539_0001 completed successfully\n",
            "2024-05-04 12:58:39,136 INFO mapreduce.Job: Counters: 54\n",
            "\tFile System Counters\n",
            "\t\tFILE: Number of bytes read=9023\n",
            "\t\tFILE: Number of bytes written=733340\n",
            "\t\tFILE: Number of read operations=0\n",
            "\t\tFILE: Number of large read operations=0\n",
            "\t\tFILE: Number of write operations=0\n",
            "\t\tHDFS: Number of bytes read=40811\n",
            "\t\tHDFS: Number of bytes written=10074\n",
            "\t\tHDFS: Number of read operations=11\n",
            "\t\tHDFS: Number of large read operations=0\n",
            "\t\tHDFS: Number of write operations=2\n",
            "\t\tHDFS: Number of bytes read erasure-coded=0\n",
            "\tJob Counters \n",
            "\t\tLaunched map tasks=2\n",
            "\t\tLaunched reduce tasks=1\n",
            "\t\tData-local map tasks=2\n",
            "\t\tTotal time spent by all maps in occupied slots (ms)=17591\n",
            "\t\tTotal time spent by all reduces in occupied slots (ms)=4841\n",
            "\t\tTotal time spent by all map tasks (ms)=17591\n",
            "\t\tTotal time spent by all reduce tasks (ms)=4841\n",
            "\t\tTotal vcore-milliseconds taken by all map tasks=17591\n",
            "\t\tTotal vcore-milliseconds taken by all reduce tasks=4841\n",
            "\t\tTotal megabyte-milliseconds taken by all map tasks=18013184\n",
            "\t\tTotal megabyte-milliseconds taken by all reduce tasks=4957184\n",
            "\tMap-Reduce Framework\n",
            "\t\tMap input records=722\n",
            "\t\tMap output records=127\n",
            "\t\tMap output bytes=8763\n",
            "\t\tMap output materialized bytes=9029\n",
            "\t\tInput split bytes=184\n",
            "\t\tCombine input records=0\n",
            "\t\tCombine output records=0\n",
            "\t\tReduce input groups=127\n",
            "\t\tReduce shuffle bytes=9029\n",
            "\t\tReduce input records=127\n",
            "\t\tReduce output records=128\n",
            "\t\tSpilled Records=254\n",
            "\t\tShuffled Maps =2\n",
            "\t\tFailed Shuffles=0\n",
            "\t\tMerged Map outputs=2\n",
            "\t\tGC time elapsed (ms)=551\n",
            "\t\tCPU time spent (ms)=2630\n",
            "\t\tPhysical memory (bytes) snapshot=737427456\n",
            "\t\tVirtual memory (bytes) snapshot=7615942656\n",
            "\t\tTotal committed heap usage (bytes)=722993152\n",
            "\t\tPeak Map Physical memory (bytes)=279953408\n",
            "\t\tPeak Map Virtual memory (bytes)=2537938944\n",
            "\t\tPeak Reduce Physical memory (bytes)=177680384\n",
            "\t\tPeak Reduce Virtual memory (bytes)=2540654592\n",
            "\tShuffle Errors\n",
            "\t\tBAD_ID=0\n",
            "\t\tCONNECTION=0\n",
            "\t\tIO_ERROR=0\n",
            "\t\tWRONG_LENGTH=0\n",
            "\t\tWRONG_MAP=0\n",
            "\t\tWRONG_REDUCE=0\n",
            "\tFile Input Format Counters \n",
            "\t\tBytes Read=40627\n",
            "\tFile Output Format Counters \n",
            "\t\tBytes Written=10074\n",
            "2024-05-04 12:58:39,136 INFO streaming.StreamJob: Output directory: /zdn_hw/output\n"
          ]
        }
      ]
    },
    {
      "cell_type": "code",
      "source": [
        "#Exploring the created output directory\n",
        "#part-r-00000 contains the actual ouput\n",
        "!$HADOOP_HOME/bin/hdfs dfs -ls /zdn_hw/output"
      ],
      "metadata": {
        "id": "Lztg4qLyKZZk",
        "colab": {
          "base_uri": "https://localhost:8080/"
        },
        "outputId": "c2d7c8b2-fd5a-4593-9368-119e6dfc12dd"
      },
      "execution_count": 17,
      "outputs": [
        {
          "output_type": "stream",
          "name": "stdout",
          "text": [
            "Found 2 items\n",
            "-rw-r--r--   1 root supergroup          0 2024-05-04 12:58 /zdn_hw/output/_SUCCESS\n",
            "-rw-r--r--   1 root supergroup      10074 2024-05-04 12:58 /zdn_hw/output/part-00000\n"
          ]
        }
      ]
    },
    {
      "cell_type": "code",
      "source": [
        "#Printing out first 50 lines\n",
        "!$HADOOP_HOME/bin/hdfs dfs -cat /zdn_hw/output/part-00000 | head -50"
      ],
      "metadata": {
        "id": "byBbhuqEKbp1",
        "colab": {
          "base_uri": "https://localhost:8080/"
        },
        "outputId": "72cb6e83-4077-4048-9c8d-37da265f257e"
      },
      "execution_count": 18,
      "outputs": [
        {
          "output_type": "stream",
          "name": "stdout",
          "text": [
            "Kalimat: \"(trademark/copyright) agreement. If you do not agree to abide by all\"\t\n",
            "Kalimat: \"1.F.4. Except for the limited right of replacement or refund set forth\"\t\n",
            "Kalimat: \"1.F.5. Some states do not allow disclaimers of certain implied\"\t\n",
            "Kalimat: \"Any number of ex-overseas men could answer this.\"\t\n",
            "Kalimat: \"Black. Had myself nicely planted in the rear seat, and who comes out\"\t\n",
            "Kalimat: \"Bob Watts was flying it this morning and he had the same trouble.”\"\t\n",
            "Kalimat: \"But the sergeant turned out to be a handy mechanic. Good mechanics were\"\t\n",
            "Kalimat: \"Gutenberg Literary Archive Foundation. Royalty payments must be paid\"\t\n",
            "Kalimat: \"Gutenberg™ electronic work under this agreement, disclaim all\"\t\n",
            "Kalimat: \"M.P’s apart at high noon of the same day in the public square at\"\t\n",
            "Kalimat: \"Master Sergeant Sciples, in charge of the hangar, came along to start\"\t\n",
            "Kalimat: \"New classes of cadets came to that field. Even one of the cooks from\"\t\n",
            "Kalimat: \"New made flying cadets came to that field. Lord! Where did they get\"\t\n",
            "Kalimat: \"Project Gutenberg™ name associated with the work. You can easily\"\t\n",
            "Kalimat: \"States. Compliance requirements are not uniform and it takes a\"\t\n",
            "Kalimat: \"Such an iron fisted bunch of shovel apprentices I’ve never met. They\"\t\n",
            "Kalimat: \"The Project Gutenberg eBook of Then luck came in\"\t\n",
            "Kalimat: \"The betting’s even that the sergeant had planned this moment during the\"\t\n",
            "Kalimat: \"The instructor was adjusting helmet and goggles, and his silence gave\"\t\n",
            "Kalimat: \"The sergeant did learn to fly; but he “stole” the flying time, begged\"\t\n",
            "Kalimat: \"The sergeant was a much abused man. Wartime flying had not used him any\"\t\n",
            "Kalimat: \"The sergeant’s outfit came back to the States. Air Service wanted to\"\t\n",
            "Kalimat: \"Title: Then luck came in\"\t\n",
            "Kalimat: \"Unofficially grabbing flying time wherever and whenever he could get\"\t\n",
            "Kalimat: \"While the C.O. waited, and the men started the plane’s motor, the\"\t\n",
            "Kalimat: \"While they were adjusting the safety belts, Cadet Shane came running\"\t\n",
            "Kalimat: \"accordance with this agreement, and any volunteers associated with the\"\t\n",
            "Kalimat: \"active links or immediate access to the full terms of the Project\"\t\n",
            "Kalimat: \"agree to be bound by the terms of this agreement. There are a few\"\t\n",
            "Kalimat: \"agreement and help preserve free future access to Project Gutenberg™\"\t\n",
            "Kalimat: \"agreement before downloading, copying, displaying, performing,\"\t\n",
            "Kalimat: \"agreement shall be interpreted to make the maximum disclaimer or\"\t\n",
            "Kalimat: \"airmen are made need not know anything--or much. See the point? You’re\"\t\n",
            "Kalimat: \"all set to fly alone. Then, that same day, they took the 23 away. The\"\t\n",
            "Kalimat: \"and came out in language that lay people erroneously suppose is solely\"\t\n",
            "Kalimat: \"and robs me but my ex-cook, that rotten cook, Shane, and--” There were\"\t\n",
            "Kalimat: \"any money paid for a work or a replacement copy, if a defect in the\"\t\n",
            "Kalimat: \"any statements concerning tax treatment of donations received from\"\t\n",
            "Kalimat: \"are set forth in this agreement, you must obtain permission in writing\"\t\n",
            "Kalimat: \"array of equipment including outdated equipment. Many small donations\"\t\n",
            "Kalimat: \"be renamed.\"\t\n",
            "Kalimat: \"by the terms of this agreement, you may obtain a refund from the person\"\t\n",
            "Kalimat: \"cannot be read by your equipment.\"\t\n",
            "Kalimat: \"certain souvenirs. And at no time did he allow hangar work to cut in on\"\t\n",
            "Kalimat: \"civilian on her hands. And she’s going to collect a mean problem, too.\"\t\n",
            "Kalimat: \"comply with the terms of this agreement by keeping this work in the\"\t\n",
            "Kalimat: \"considerable effort, much paperwork and many fees to meet and keep up\"\t\n",
            "Kalimat: \"copies of the works possessed in a physical medium and discontinue\"\t\n",
            "Kalimat: \"cubes on a work bench, the sergeant came down in hot wrath, threw the\"\t\n",
            "Kalimat: \"damages. If any disclaimer or limitation set forth in this agreement\"\t\n"
          ]
        }
      ]
    },
    {
      "cell_type": "code",
      "source": [
        "!$HADOOP_HOME/bin/hdfs dfs -copyToLocal /zdn_hw/output/part-00000 /content/jumlah_kalimat_mengandung_me.txt"
      ],
      "metadata": {
        "id": "aBNwcr3hKdxr"
      },
      "execution_count": 19,
      "outputs": []
    }
  ]
}